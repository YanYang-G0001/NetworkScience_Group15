{
  "nbformat": 4,
  "nbformat_minor": 0,
  "metadata": {
    "colab": {
      "provenance": []
    },
    "kernelspec": {
      "name": "python3",
      "display_name": "Python 3"
    },
    "language_info": {
      "name": "python"
    }
  },
  "cells": [
    {
      "cell_type": "code",
      "source": [
        "import pandas as pd\n",
        "import networkx as nx\n",
        "from networkx.drawing.nx_pydot import write_dot"
      ],
      "metadata": {
        "id": "qpJY_ihNEa9s"
      },
      "execution_count": null,
      "outputs": []
    },
    {
      "cell_type": "code",
      "execution_count": null,
      "metadata": {
        "id": "zWtluHPlEVvv"
      },
      "outputs": [],
      "source": [
        "# java\n",
        "def process_java_dependency(input_file, output_file=\"Java_graph_new.dot\"):\n",
        "    # Initialize a directed graph\n",
        "    G = nx.DiGraph()\n",
        "\n",
        "    # Read the CSV and add edges to the graph\n",
        "    with open(input_file, 'r') as file:\n",
        "        for line in file:\n",
        "            # Remove spaces and split the line into source and target\n",
        "            line = line.strip()\n",
        "\n",
        "            # Check for malformed lines or invalid data\n",
        "            if \"->\" in line:\n",
        "                source, target = line.split(\"->\")\n",
        "                # Filter out edges where the target is invalid\n",
        "                if target.lower() not in ['nan', 'none', '']:\n",
        "                    G.add_edge(source.strip(), target.strip())\n",
        "                else:\n",
        "                    print(f\"Skipping invalid line (nan or None target): {line}\")\n",
        "            else:\n",
        "                print(f\"Skipping malformed line: {line}\")\n",
        "\n",
        "    # Write the graph to a DOT file\n",
        "    write_dot(G, output_file)\n",
        "    print(f\"DOT file saved to {output_file}\")\n",
        "\n",
        "def make_java_graph(df, min_edges=0):\n",
        "    java_DG = nx.DiGraph()\n",
        "    df['from'] = df['from'].astype(str).str.strip()\n",
        "    df['to'] = df['to'].astype(str).str.strip()\n",
        "    df = df.dropna()\n",
        "    nodes = pd.concat([df['from'], df['to']]).unique()\n",
        "    edges = df[['from', 'to']].values\n",
        "    java_DG.add_nodes_from(nodes)\n",
        "    java_DG.add_edges_from(edges)\n",
        "\n",
        "    if min_edges > 0:\n",
        "        to_remove = [node for node, degree in java_DG.degree() if degree <= min_edges]\n",
        "        java_DG.remove_nodes_from(to_remove)\n",
        "\n",
        "    return java_DG\n"
      ]
    },
    {
      "cell_type": "code",
      "source": [
        "# python\n",
        "def make_python_graph(df, min_edges=0):\n",
        "    py_DG = nx.DiGraph()\n",
        "    nodes = df['package_name'].dropna().unique()\n",
        "    edges = df[['package_name', 'requirement']].dropna().values\n",
        "    py_DG.add_nodes_from(nodes)\n",
        "    py_DG.add_edges_from((edge[0], edge[1]) for edge in edges if edge[1] not in ['.', 'nan', None])\n",
        "    to_remove = [node for node, degree in py_DG.degree() if degree <= min_edges]\n",
        "    py_DG.remove_nodes_from(to_remove)\n",
        "    return py_DG"
      ],
      "metadata": {
        "id": "YHJvX013Eek0"
      },
      "execution_count": null,
      "outputs": []
    },
    {
      "cell_type": "code",
      "source": [
        "# r\n",
        "def make_r_graph(df, min_edges=0):\n",
        "    r_DG = nx.DiGraph()\n",
        "    nodes = pd.concat([df['from'], df['to']]).dropna().unique()\n",
        "    edges = df[['from', 'to']].dropna().values\n",
        "    r_DG.add_nodes_from(nodes)\n",
        "    r_DG.add_edges_from(edges)\n",
        "    if min_edges > 0:\n",
        "        to_remove = [node for node, degree in r_DG.degree() if degree <= min_edges]\n",
        "        r_DG.remove_nodes_from(to_remove)\n",
        "    return r_DG"
      ],
      "metadata": {
        "id": "aRx-pb0xEgDU"
      },
      "execution_count": null,
      "outputs": []
    },
    {
      "cell_type": "code",
      "source": [
        "java_dependency = pd.read_csv( 'Javadependency.csv', delimiter='->', header=None, names=['from', 'to'], engine='python')\n",
        "java_DG = make_java_graph(java_dependency, min_edges=0)\n",
        "print(f\"\\nJava dependency graph has {java_DG.number_of_nodes()} nodes and {java_DG.number_of_edges()} edges.\")\n",
        "write_dot(java_DG, 'Java_graph.dot')\n",
        "print(\"Graph has been successfully written to 'Java_graph.dot'.\")\n",
        "\n",
        "python_dependency = pd.read_csv('pythondependency.csv')\n",
        "py_DG = make_python_graph(python_dependency, min_edges=0)\n",
        "print(f\"\\nPython dependency graph has {py_DG.number_of_nodes()} nodes and {py_DG.number_of_edges()} edges.\")\n",
        "write_dot(py_DG, 'python_graph.dot')\n",
        "print(\"Graph has been successfully written to 'python_graph.dot'.\")\n",
        "\n",
        "r_dependency = pd.read_csv('Rdependency.csv')\n",
        "r_DG = make_r_graph(r_dependency, min_edges=0)\n",
        "print(f\"\\nR dependency graph has {r_DG.number_of_nodes()} nodes and {r_DG.number_of_edges()} edges.\")\n",
        "write_dot(r_DG, 'R_graph.dot')\n",
        "print(\"Graph has been successfully written to 'R_graph.dot'.\")\n"
      ],
      "metadata": {
        "id": "jSvFxgvtEqJc"
      },
      "execution_count": null,
      "outputs": []
    }
  ]
}