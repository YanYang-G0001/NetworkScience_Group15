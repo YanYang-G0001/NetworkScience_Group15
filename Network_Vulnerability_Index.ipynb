{
  "nbformat": 4,
  "nbformat_minor": 0,
  "metadata": {
    "colab": {
      "provenance": []
    },
    "kernelspec": {
      "name": "python3",
      "display_name": "Python 3"
    },
    "language_info": {
      "name": "python"
    }
  },
  "cells": [
    {
      "cell_type": "code",
      "execution_count": null,
      "metadata": {
        "id": "Aoo6xys1E6YH"
      },
      "outputs": [],
      "source": [
        "import numpy as np\n",
        "import networkx as nx\n",
        "import pandas as pd\n",
        "\n",
        "def compute_eigenvector_centrality_for_disconnected(graph):\n",
        "    \"\"\"\n",
        "    Compute eigenvector centrality for a potentially disconnected graph.\n",
        "    Handles strongly connected components separately and merges the results.\n",
        "    \"\"\"\n",
        "    centrality = {}\n",
        "    for component in nx.strongly_connected_components(graph):\n",
        "        subgraph = graph.subgraph(component)\n",
        "        adjacency_matrix = nx.to_numpy_array(subgraph)\n",
        "        eigenvalues, eigenvectors = np.linalg.eig(adjacency_matrix)\n",
        "        largest_idx = np.argmax(np.real(eigenvalues))\n",
        "        eigenvector = np.real(eigenvectors[:, largest_idx])\n",
        "        centrality.update({node: eigenvector[i] for i, node in enumerate(subgraph.nodes())})\n",
        "    return centrality\n",
        "\n",
        "def compute_network_vulnerability_index(graph):\n",
        "    \"\"\"\n",
        "    Compute Network Vulnerability Index (NVI) for a single connected component of the graph.\n",
        "    \"\"\"\n",
        "    degrees = dict(graph.in_degree())\n",
        "    N = len(degrees)\n",
        "    D_inv = np.diag([1 / d if d != 0 else 0 for d in degrees.values()])\n",
        "    c = compute_eigenvector_centrality_for_disconnected(graph)\n",
        "    c_vector = np.array([c[node] for node in graph.nodes()])\n",
        "    ones = np.ones(N)\n",
        "    alpha = 0.5\n",
        "    v = D_inv @ ones + alpha * c_vector\n",
        "    NVI = np.mean(v)\n",
        "    return NVI\n",
        "\n",
        "def compute_nvi_for_weakly_connected_graph(graph):\n",
        "    \"\"\"\n",
        "    Compute the overall Network Vulnerability Index (NVI) for a weakly connected graph.\n",
        "    \"\"\"\n",
        "    components = list(nx.weakly_connected_components(graph))\n",
        "    total_nvi = 0\n",
        "    total_nodes = 0\n",
        "    for i, component in enumerate(components):\n",
        "        subgraph = graph.subgraph(component).copy()\n",
        "        num_nodes = subgraph.number_of_nodes()\n",
        "        if num_nodes > 1:\n",
        "            print(f\"Processing component {i + 1} with {num_nodes} nodes and {subgraph.number_of_edges()} edges\")\n",
        "            try:\n",
        "                component_nvi = compute_network_vulnerability_index(subgraph)\n",
        "                total_nvi += component_nvi * num_nodes\n",
        "                total_nodes += num_nodes\n",
        "                print(f\"Component {i + 1} NVI: {component_nvi:.4f}\")\n",
        "            except nx.NetworkXError as e:\n",
        "                print(f\"Error processing component {i + 1}: {e}\")\n",
        "        else:\n",
        "            print(f\"Skipping component {i + 1} with only one node.\")\n",
        "    overall_nvi = total_nvi / total_nodes if total_nodes > 0 else 0\n",
        "    return overall_nvi"
      ]
    },
    {
      "cell_type": "code",
      "source": [
        "print(\"\\nProcessing R dependency graph...\")\n",
        "r_dependency = pd.read_csv(\"Rdependency.csv\")\n",
        "r_graph = make_r_graph(r_dependency)\n",
        "overall_nvi_r = compute_nvi_for_weakly_connected_graph(r_graph)\n",
        "print(f\"\\nOverall Network Vulnerability Index (NVI) for R Graph: {overall_nvi_r:.4f}\")\n",
        "print(\"\\nProcessing Python dependency graph...\")\n",
        "python_dependency = pd.read_csv(\"pythondependency.csv\")\n",
        "python_graph = make_python_graph(python_dependency)\n",
        "overall_nvi_python = compute_nvi_for_weakly_connected_graph(python_graph)\n",
        "print(f\"\\nOverall Network Vulnerability Index (NVI) for Python Graph: {overall_nvi_python:.4f}\")\n",
        "print(\"\\nProcessing Java dependency graph...\")\n",
        "java_dependency = pd.read_csv('Javadependency.csv', delimiter='=>', header=None, names=['from', 'to'], engine='python')\n",
        "java_graph = make_java_graph(java_dependency)\n",
        "overall_nvi_java = compute_nvi_for_weakly_connected_graph(java_graph)\n",
        "print(f\"\\nOverall Network Vulnerability Index (NVI) for Java Graph: {overall_nvi_java:.4f}\")"
      ],
      "metadata": {
        "id": "ymzlP4BYFGvr"
      },
      "execution_count": null,
      "outputs": []
    }
  ]
}